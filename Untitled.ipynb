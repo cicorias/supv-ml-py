{
 "cells": [
  {
   "cell_type": "code",
   "execution_count": 1,
   "metadata": {},
   "outputs": [
    {
     "name": "stderr",
     "output_type": "stream",
     "text": [
      "/Users/cicorias/Downloads/9781838825669_Code/.venv/lib/python3.7/site-packages/sklearn/externals/six.py:31: FutureWarning: The module is deprecated in version 0.21 and will be removed in version 0.23 since we've dropped support for Python 2.7. Please rely on the official version of six (https://pypi.org/project/six/).\n",
      "  \"(https://pypi.org/project/six/).\", FutureWarning)\n"
     ]
    }
   ],
   "source": [
    "from packtml import base"
   ]
  },
  {
   "cell_type": "code",
   "execution_count": 2,
   "metadata": {},
   "outputs": [],
   "source": [
    "\n",
    "\n",
    "#from __future__ import absolute_import\n",
    "\n",
    "from packtml.decision_tree.cart import RandomSplitter\n",
    "from packtml.decision_tree.metrics import InformationGain\n",
    "import numpy as np"
   ]
  },
  {
   "cell_type": "code",
   "execution_count": 3,
   "metadata": {},
   "outputs": [
    {
     "name": "stdout",
     "output_type": "stream",
     "text": [
      "Best feature=0, best value=21, information gain: 0.444\n"
     ]
    }
   ],
   "source": [
    "# Build the example from the slides (3.3)\n",
    "X = np.array([[21, 3], [ 4, 2], [37, 2]])\n",
    "y = np.array([1, 0, 1])\n",
    "\n",
    "\n",
    "\n",
    "# this is the splitting class; we'll use gini as the criteria\n",
    "random_state = np.random.RandomState(42)\n",
    "splitter = RandomSplitter(random_state=random_state,\n",
    "                          criterion=InformationGain('gini'),\n",
    "                          n_val_sample=3)\n",
    "# find the best:\n",
    "best_feature, best_value, best_gain = splitter.find_best(X, y)\n",
    "print(\"Best feature=%i, best value=%r, information gain: %.3f\"\n",
    "      % (best_feature, best_value, best_gain))"
   ]
  },
  {
   "cell_type": "code",
   "execution_count": null,
   "metadata": {},
   "outputs": [],
   "source": []
  }
 ],
 "metadata": {
  "kernelspec": {
   "display_name": "Python 3",
   "language": "python",
   "name": "python3"
  },
  "language_info": {
   "codemirror_mode": {
    "name": "ipython",
    "version": 3
   },
   "file_extension": ".py",
   "mimetype": "text/x-python",
   "name": "python",
   "nbconvert_exporter": "python",
   "pygments_lexer": "ipython3",
   "version": "3.7.6"
  }
 },
 "nbformat": 4,
 "nbformat_minor": 4
}
